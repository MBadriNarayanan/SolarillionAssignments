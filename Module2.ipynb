{
 "cells": [
  {
   "cell_type": "markdown",
   "metadata": {},
   "source": [
    "# Python Basics"
   ]
  },
  {
   "cell_type": "markdown",
   "metadata": {},
   "source": [
    "These assignments aim to get you acquainted with Python, which is an important requirement for all the research done at Solarillion Foundation. Apart from teaching you Python, these assignments also aim to make you a better programmer and cultivate better coding practices. \n",
    "\n",
    "Visit these links for more details: <br>\n",
    "PEP8 Practices: https://www.python.org/dev/peps/pep-0008/ <br>\n",
    "Check PEP8: http://pep8online.com <br>\n",
    "Python Reference: https://www.py4e.com/lessons <br>\n",
    "\n",
    "Do use Google efficiently, and refer to StackOverflow for clarifying any programming doubts. If you're still stuck, feel free to ask a TA to help you.\n",
    "\n",
    "Each task in the assignment comprises of at least two cells. There are function definitions wherein you will name the function(s), and write code to solve the problem at hand. You will call the function(s) in the last cell of each task, and check your output.\n",
    "\n",
    "We encourage you to play around and learn as much as possible, and be as creative as you can get. More than anything, have fun doing these assignments. Enjoy!"
   ]
  },
  {
   "cell_type": "markdown",
   "metadata": {},
   "source": [
    "# Important\n",
    "* **Only the imports and functions must be present when you upload this notebook to GitHub for verification.** \n",
    "* **Do not upload it until you want to get it verified. Do not change function names or add extra cells or code, or remove anything.**\n",
    "* **For your rough work and four showing your code to TAs, use a different notebook with the name Module2Playground.ipynb and copy only the final functions to this notebook for verification.**"
   ]
  },
  {
   "cell_type": "markdown",
   "metadata": {},
   "source": [
    "# Module 2\n",
    "Scope: NumPy, pandas, pickle, matplotlib, File operations"
   ]
  },
  {
   "cell_type": "markdown",
   "metadata": {},
   "source": [
    "## Imports - Always Execute First!\n",
    "Import any modules and turn on any magic here:"
   ]
  },
  {
   "cell_type": "code",
   "execution_count": 68,
   "metadata": {},
   "outputs": [],
   "source": [
    "import matplotlib as mpl\n",
    "import matplotlib.pyplot as plt\n",
    "import numpy as np\n",
    "import pandas as pd\n",
    "import pickle as pkl\n",
    "from IPython import get_ipython"
   ]
  },
  {
   "cell_type": "markdown",
   "metadata": {},
   "source": [
    "## Task 1"
   ]
  },
  {
   "cell_type": "markdown",
   "metadata": {},
   "source": [
    "Basics of NumPy, pandas, pickle and matplotlib."
   ]
  },
  {
   "cell_type": "markdown",
   "metadata": {},
   "source": [
    "**Question 1**"
   ]
  },
  {
   "cell_type": "code",
   "execution_count": null,
   "metadata": {},
   "outputs": [],
   "source": [
    "\"\"\"\n",
    "    Read the pickle file 'Data/Stress.pkl' and transform the contents into a\n",
    "    a pandas DataFrame of the following form:\n",
    "    \n",
    "            +------+------+------+-----+------+-------+\n",
    "            | ACCx | ACCy | ACCz | ECG | RESP | LABEL |\n",
    "            +------+------+------+-----+------+-------+\n",
    "            |      |      |      |     |      |       |\n",
    "            +------+------+------+-----+------+-------+\n",
    "            |      |      |      |     |      |       |\n",
    "            +------+------+------+-----+------+-------+\n",
    "            |      |      |      |     |      |       |\n",
    "            +------+------+------+-----+------+-------+\n",
    "\n",
    "            Shape: (700, 6)\n",
    "\n",
    "    Save this DataFrame as a CSV file.\n",
    "\n",
    "    Modules\n",
    "    -------\n",
    "    pickle, pandas\n",
    "    \n",
    "    Lookups\n",
    "    -------\n",
    "    NumPy and pandas basics (Check the Lookups folder)\n",
    "    Try to complete the tasks in the Lookups, and play around with the notebooks.\n",
    "\"\"\"        "
   ]
  },
  {
   "cell_type": "code",
   "execution_count": 66,
   "metadata": {},
   "outputs": [],
   "source": [
    "import pandas as pd\n",
    "import numpy as np\n",
    "import pickle as pkl\n",
    "\n",
    "\n",
    "def pickle_to_csv(filename):\n",
    "    \"\"\"\n",
    "        Function: pickle_to_csv(filename)\n",
    "        Parameters: filename (String)\n",
    "        Save: DataFrame as `Stress.csv` in folder `Data`\n",
    "        Return: DataFrame\n",
    "    \"\"\"\n",
    "    f = open(filename, \"rb\")\n",
    "    data = {}\n",
    "    ACCx = []\n",
    "    ACCy = []\n",
    "    ACCz = []\n",
    "    raw_data = {}\n",
    "    db = pkl.load(f)\n",
    "    raw_data['ACCx'] = [list [0] for list in db['signal']['ACC']]\n",
    "    raw_data['ACCy'] = [list [1] for list in db['signal']['ACC']]\n",
    "    raw_data['ACCz'] = [list [2] for list in db['signal']['ACC']]\n",
    "    raw_data['ECG'] =  [list [0] for list in db['signal']['ECG']]\n",
    "    raw_data['RESP'] = [list [0] for list in db['signal']['RESP']]\n",
    "    raw_data['LABEL'] = [list [0] for list in db['signal']['LABEL']]\n",
    "    df=pd.DataFrame(raw_data)\n",
    "    df.to_csv('Data/Stress.csv')\n",
    "    f.close()\n",
    "    return df"
   ]
  },
  {
   "cell_type": "code",
   "execution_count": 67,
   "metadata": {},
   "outputs": [
    {
     "data": {
      "text/html": [
       "<div>\n",
       "<style scoped>\n",
       "    .dataframe tbody tr th:only-of-type {\n",
       "        vertical-align: middle;\n",
       "    }\n",
       "\n",
       "    .dataframe tbody tr th {\n",
       "        vertical-align: top;\n",
       "    }\n",
       "\n",
       "    .dataframe thead th {\n",
       "        text-align: right;\n",
       "    }\n",
       "</style>\n",
       "<table border=\"1\" class=\"dataframe\">\n",
       "  <thead>\n",
       "    <tr style=\"text-align: right;\">\n",
       "      <th></th>\n",
       "      <th>ACCx</th>\n",
       "      <th>ACCy</th>\n",
       "      <th>ACCz</th>\n",
       "      <th>ECG</th>\n",
       "      <th>RESP</th>\n",
       "      <th>LABEL</th>\n",
       "    </tr>\n",
       "  </thead>\n",
       "  <tbody>\n",
       "    <tr>\n",
       "      <th>0</th>\n",
       "      <td>0.9554</td>\n",
       "      <td>-0.2220</td>\n",
       "      <td>-0.5580</td>\n",
       "      <td>0.021423</td>\n",
       "      <td>-1.148987</td>\n",
       "      <td>0.0</td>\n",
       "    </tr>\n",
       "    <tr>\n",
       "      <th>1</th>\n",
       "      <td>0.9258</td>\n",
       "      <td>-0.2216</td>\n",
       "      <td>-0.5538</td>\n",
       "      <td>0.020325</td>\n",
       "      <td>-1.124573</td>\n",
       "      <td>0.0</td>\n",
       "    </tr>\n",
       "    <tr>\n",
       "      <th>2</th>\n",
       "      <td>0.9082</td>\n",
       "      <td>-0.2196</td>\n",
       "      <td>-0.5392</td>\n",
       "      <td>0.016525</td>\n",
       "      <td>-1.152039</td>\n",
       "      <td>0.0</td>\n",
       "    </tr>\n",
       "    <tr>\n",
       "      <th>3</th>\n",
       "      <td>0.8974</td>\n",
       "      <td>-0.2102</td>\n",
       "      <td>-0.5122</td>\n",
       "      <td>0.016708</td>\n",
       "      <td>-1.158142</td>\n",
       "      <td>0.0</td>\n",
       "    </tr>\n",
       "    <tr>\n",
       "      <th>4</th>\n",
       "      <td>0.8882</td>\n",
       "      <td>-0.2036</td>\n",
       "      <td>-0.4824</td>\n",
       "      <td>0.011673</td>\n",
       "      <td>-1.161194</td>\n",
       "      <td>0.0</td>\n",
       "    </tr>\n",
       "    <tr>\n",
       "      <th>...</th>\n",
       "      <td>...</td>\n",
       "      <td>...</td>\n",
       "      <td>...</td>\n",
       "      <td>...</td>\n",
       "      <td>...</td>\n",
       "      <td>...</td>\n",
       "    </tr>\n",
       "    <tr>\n",
       "      <th>695</th>\n",
       "      <td>0.9134</td>\n",
       "      <td>-0.1400</td>\n",
       "      <td>0.1074</td>\n",
       "      <td>0.003479</td>\n",
       "      <td>2.299500</td>\n",
       "      <td>7.0</td>\n",
       "    </tr>\n",
       "    <tr>\n",
       "      <th>696</th>\n",
       "      <td>0.9092</td>\n",
       "      <td>-0.1394</td>\n",
       "      <td>0.0994</td>\n",
       "      <td>0.000778</td>\n",
       "      <td>2.305603</td>\n",
       "      <td>7.0</td>\n",
       "    </tr>\n",
       "    <tr>\n",
       "      <th>697</th>\n",
       "      <td>0.9084</td>\n",
       "      <td>-0.1414</td>\n",
       "      <td>0.0934</td>\n",
       "      <td>-0.001694</td>\n",
       "      <td>2.297974</td>\n",
       "      <td>7.0</td>\n",
       "    </tr>\n",
       "    <tr>\n",
       "      <th>698</th>\n",
       "      <td>0.9116</td>\n",
       "      <td>-0.1416</td>\n",
       "      <td>0.0958</td>\n",
       "      <td>-0.003799</td>\n",
       "      <td>2.354431</td>\n",
       "      <td>7.0</td>\n",
       "    </tr>\n",
       "    <tr>\n",
       "      <th>699</th>\n",
       "      <td>0.9156</td>\n",
       "      <td>-0.1396</td>\n",
       "      <td>0.1022</td>\n",
       "      <td>-0.006546</td>\n",
       "      <td>2.355957</td>\n",
       "      <td>7.0</td>\n",
       "    </tr>\n",
       "  </tbody>\n",
       "</table>\n",
       "<p>700 rows × 6 columns</p>\n",
       "</div>"
      ],
      "text/plain": [
       "       ACCx    ACCy    ACCz       ECG      RESP  LABEL\n",
       "0    0.9554 -0.2220 -0.5580  0.021423 -1.148987    0.0\n",
       "1    0.9258 -0.2216 -0.5538  0.020325 -1.124573    0.0\n",
       "2    0.9082 -0.2196 -0.5392  0.016525 -1.152039    0.0\n",
       "3    0.8974 -0.2102 -0.5122  0.016708 -1.158142    0.0\n",
       "4    0.8882 -0.2036 -0.4824  0.011673 -1.161194    0.0\n",
       "..      ...     ...     ...       ...       ...    ...\n",
       "695  0.9134 -0.1400  0.1074  0.003479  2.299500    7.0\n",
       "696  0.9092 -0.1394  0.0994  0.000778  2.305603    7.0\n",
       "697  0.9084 -0.1414  0.0934 -0.001694  2.297974    7.0\n",
       "698  0.9116 -0.1416  0.0958 -0.003799  2.354431    7.0\n",
       "699  0.9156 -0.1396  0.1022 -0.006546  2.355957    7.0\n",
       "\n",
       "[700 rows x 6 columns]"
      ]
     },
     "execution_count": 67,
     "metadata": {},
     "output_type": "execute_result"
    }
   ],
   "source": [
    "# Call your function here \n",
    "pickle_to_csv('Data/Stress.pkl')"
   ]
  },
  {
   "cell_type": "markdown",
   "metadata": {},
   "source": [
    "**Question 2**"
   ]
  },
  {
   "cell_type": "code",
   "execution_count": null,
   "metadata": {},
   "outputs": [],
   "source": [
    "\"\"\"\n",
    "    Find the number of occurrences of each unique value in `LABEL` (count of values).\n",
    "    \n",
    "    Add a column `BINARY` to the DataFrame which contains 1 if `LABEL` is 2,\n",
    "    else 0.\n",
    "    \n",
    "    Find the mean, minimum, maximum and standard deviation of `RESP` for each value in `LABEL`.\n",
    "\"\"\""
   ]
  },
  {
   "cell_type": "code",
   "execution_count": 68,
   "metadata": {},
   "outputs": [],
   "source": [
    "def count_unique(dataframe):\n",
    "    \"\"\"\n",
    "        Function 1: count_unique(dataframe)\n",
    "        Parameters: dataframe: Stress data DataFrame\n",
    "        Return: dict containing count of values in `LABEL`\n",
    "    \"\"\"\n",
    "    count = {}\n",
    "    for i in dataframe['LABEL'] :\n",
    "        if i in count:\n",
    "            count[i] +=1\n",
    "        else:\n",
    "            count[i] =1\n",
    "    return count"
   ]
  },
  {
   "cell_type": "code",
   "execution_count": 69,
   "metadata": {},
   "outputs": [
    {
     "data": {
      "text/plain": [
       "{0.0: 100, 1.0: 100, 2.0: 100, 6.0: 100, 4.0: 100, 3.0: 100, 7.0: 100}"
      ]
     },
     "execution_count": 69,
     "metadata": {},
     "output_type": "execute_result"
    }
   ],
   "source": [
    "# Call your function here\n",
    "count_unique(pickle_to_csv('Data/Stress.pkl'))"
   ]
  },
  {
   "cell_type": "code",
   "execution_count": 70,
   "metadata": {},
   "outputs": [],
   "source": [
    "def add_binary(dataframe):\n",
    "    \"\"\"\n",
    "        Function 2: add_binary(dataframe)\n",
    "        Parameters: dataframe: Stress data DataFrame\n",
    "        Return: DataFrame (updated, containing `BINARY`)\n",
    "    \"\"\"\n",
    "    binary = []\n",
    "    for i in dataframe['LABEL'] :\n",
    "        if i == 2 :\n",
    "            binary.append(1)\n",
    "        else :\n",
    "            binary.append(0)\n",
    "    dataframe['BINARY'] = binary\n",
    "    return dataframe"
   ]
  },
  {
   "cell_type": "code",
   "execution_count": 6,
   "metadata": {},
   "outputs": [
    {
     "data": {
      "text/html": [
       "<div>\n",
       "<style scoped>\n",
       "    .dataframe tbody tr th:only-of-type {\n",
       "        vertical-align: middle;\n",
       "    }\n",
       "\n",
       "    .dataframe tbody tr th {\n",
       "        vertical-align: top;\n",
       "    }\n",
       "\n",
       "    .dataframe thead th {\n",
       "        text-align: right;\n",
       "    }\n",
       "</style>\n",
       "<table border=\"1\" class=\"dataframe\">\n",
       "  <thead>\n",
       "    <tr style=\"text-align: right;\">\n",
       "      <th></th>\n",
       "      <th>ACCx</th>\n",
       "      <th>ACCy</th>\n",
       "      <th>ACCz</th>\n",
       "      <th>ECG</th>\n",
       "      <th>RESP</th>\n",
       "      <th>LABEL</th>\n",
       "      <th>BINARY</th>\n",
       "    </tr>\n",
       "  </thead>\n",
       "  <tbody>\n",
       "    <tr>\n",
       "      <th>0</th>\n",
       "      <td>0.9554</td>\n",
       "      <td>-0.2220</td>\n",
       "      <td>-0.5580</td>\n",
       "      <td>0.021423</td>\n",
       "      <td>-1.148987</td>\n",
       "      <td>0.0</td>\n",
       "      <td>0</td>\n",
       "    </tr>\n",
       "    <tr>\n",
       "      <th>1</th>\n",
       "      <td>0.9258</td>\n",
       "      <td>-0.2216</td>\n",
       "      <td>-0.5538</td>\n",
       "      <td>0.020325</td>\n",
       "      <td>-1.124573</td>\n",
       "      <td>0.0</td>\n",
       "      <td>0</td>\n",
       "    </tr>\n",
       "    <tr>\n",
       "      <th>2</th>\n",
       "      <td>0.9082</td>\n",
       "      <td>-0.2196</td>\n",
       "      <td>-0.5392</td>\n",
       "      <td>0.016525</td>\n",
       "      <td>-1.152039</td>\n",
       "      <td>0.0</td>\n",
       "      <td>0</td>\n",
       "    </tr>\n",
       "    <tr>\n",
       "      <th>3</th>\n",
       "      <td>0.8974</td>\n",
       "      <td>-0.2102</td>\n",
       "      <td>-0.5122</td>\n",
       "      <td>0.016708</td>\n",
       "      <td>-1.158142</td>\n",
       "      <td>0.0</td>\n",
       "      <td>0</td>\n",
       "    </tr>\n",
       "    <tr>\n",
       "      <th>4</th>\n",
       "      <td>0.8882</td>\n",
       "      <td>-0.2036</td>\n",
       "      <td>-0.4824</td>\n",
       "      <td>0.011673</td>\n",
       "      <td>-1.161194</td>\n",
       "      <td>0.0</td>\n",
       "      <td>0</td>\n",
       "    </tr>\n",
       "    <tr>\n",
       "      <th>...</th>\n",
       "      <td>...</td>\n",
       "      <td>...</td>\n",
       "      <td>...</td>\n",
       "      <td>...</td>\n",
       "      <td>...</td>\n",
       "      <td>...</td>\n",
       "      <td>...</td>\n",
       "    </tr>\n",
       "    <tr>\n",
       "      <th>695</th>\n",
       "      <td>0.9134</td>\n",
       "      <td>-0.1400</td>\n",
       "      <td>0.1074</td>\n",
       "      <td>0.003479</td>\n",
       "      <td>2.299500</td>\n",
       "      <td>7.0</td>\n",
       "      <td>0</td>\n",
       "    </tr>\n",
       "    <tr>\n",
       "      <th>696</th>\n",
       "      <td>0.9092</td>\n",
       "      <td>-0.1394</td>\n",
       "      <td>0.0994</td>\n",
       "      <td>0.000778</td>\n",
       "      <td>2.305603</td>\n",
       "      <td>7.0</td>\n",
       "      <td>0</td>\n",
       "    </tr>\n",
       "    <tr>\n",
       "      <th>697</th>\n",
       "      <td>0.9084</td>\n",
       "      <td>-0.1414</td>\n",
       "      <td>0.0934</td>\n",
       "      <td>-0.001694</td>\n",
       "      <td>2.297974</td>\n",
       "      <td>7.0</td>\n",
       "      <td>0</td>\n",
       "    </tr>\n",
       "    <tr>\n",
       "      <th>698</th>\n",
       "      <td>0.9116</td>\n",
       "      <td>-0.1416</td>\n",
       "      <td>0.0958</td>\n",
       "      <td>-0.003799</td>\n",
       "      <td>2.354431</td>\n",
       "      <td>7.0</td>\n",
       "      <td>0</td>\n",
       "    </tr>\n",
       "    <tr>\n",
       "      <th>699</th>\n",
       "      <td>0.9156</td>\n",
       "      <td>-0.1396</td>\n",
       "      <td>0.1022</td>\n",
       "      <td>-0.006546</td>\n",
       "      <td>2.355957</td>\n",
       "      <td>7.0</td>\n",
       "      <td>0</td>\n",
       "    </tr>\n",
       "  </tbody>\n",
       "</table>\n",
       "<p>700 rows × 7 columns</p>\n",
       "</div>"
      ],
      "text/plain": [
       "       ACCx    ACCy    ACCz       ECG      RESP  LABEL  BINARY\n",
       "0    0.9554 -0.2220 -0.5580  0.021423 -1.148987    0.0       0\n",
       "1    0.9258 -0.2216 -0.5538  0.020325 -1.124573    0.0       0\n",
       "2    0.9082 -0.2196 -0.5392  0.016525 -1.152039    0.0       0\n",
       "3    0.8974 -0.2102 -0.5122  0.016708 -1.158142    0.0       0\n",
       "4    0.8882 -0.2036 -0.4824  0.011673 -1.161194    0.0       0\n",
       "..      ...     ...     ...       ...       ...    ...     ...\n",
       "695  0.9134 -0.1400  0.1074  0.003479  2.299500    7.0       0\n",
       "696  0.9092 -0.1394  0.0994  0.000778  2.305603    7.0       0\n",
       "697  0.9084 -0.1414  0.0934 -0.001694  2.297974    7.0       0\n",
       "698  0.9116 -0.1416  0.0958 -0.003799  2.354431    7.0       0\n",
       "699  0.9156 -0.1396  0.1022 -0.006546  2.355957    7.0       0\n",
       "\n",
       "[700 rows x 7 columns]"
      ]
     },
     "execution_count": 6,
     "metadata": {},
     "output_type": "execute_result"
    }
   ],
   "source": [
    "# Call your function here\n",
    "add_binary(pickle_to_csv('Data/Stress.pkl'))"
   ]
  },
  {
   "cell_type": "code",
   "execution_count": 102,
   "metadata": {},
   "outputs": [],
   "source": [
    "import statistics\n",
    "def compute_resp(dataframe):\n",
    "    \"\"\"\n",
    "        Function 3: compute_resp(dataframe)\n",
    "        Parameters: dataframe: Stress data DataFrame\n",
    "        Return: dict containing mean, min, max and standard deviation of `RESP`\n",
    "                for each value in `LABEL`\n",
    "        Dictionary Format: {label_value: [mean, min, max, std_dev]}\n",
    "        Example: {1: [1, 0, 2, 1], 2: [0, -1, 1, 1], ... }\n",
    "    \"\"\"\n",
    "    count = count_unique(dataframe)\n",
    "    newcount = {}\n",
    "    for i in count.keys():\n",
    "        list1 = []\n",
    "        standarddeviation = statistics.stdev(dataframe.loc[dataframe['LABEL'] == i,'RESP'])\n",
    "        meanvalue = statistics.mean(dataframe.loc[dataframe['LABEL'] == i,'RESP'])\n",
    "        maxvalue = max(dataframe.loc[dataframe['LABEL'] == i,'RESP'])\n",
    "        minvalue = min(dataframe.loc[dataframe['LABEL'] == i,'RESP'])\n",
    "        list1.append(meanvalue)\n",
    "        list1.append(maxvalue)\n",
    "        list1.append(minvalue)\n",
    "        list1.append(standarddeviation)\n",
    "        newcount[i] = list1\n",
    "    return newcount  "
   ]
  },
  {
   "cell_type": "code",
   "execution_count": 103,
   "metadata": {
    "scrolled": true
   },
   "outputs": [
    {
     "data": {
      "text/plain": [
       "{0.0: [-1.19342041015625,\n",
       "  -1.12457275390625,\n",
       "  -1.39617919921875,\n",
       "  0.04224704631603914],\n",
       " 1.0: [0.7134246826171875,\n",
       "  1.19171142578125,\n",
       "  -0.23345947265625,\n",
       "  0.2955339157237469],\n",
       " 2.0: [-1.0665130615234375,\n",
       "  -0.86517333984375,\n",
       "  -1.63116455078125,\n",
       "  0.12823314954549292],\n",
       " 6.0: [0.084747314453125,\n",
       "  0.16632080078125,\n",
       "  -0.4180908203125,\n",
       "  0.08561486266706556],\n",
       " 4.0: [-2.1305999755859375,\n",
       "  -2.00042724609375,\n",
       "  -2.54364013671875,\n",
       "  0.08807708808175198],\n",
       " 3.0: [-0.5306396484375,\n",
       "  -0.09918212890625,\n",
       "  -1.27105712890625,\n",
       "  0.24397469864245047],\n",
       " 7.0: [1.1905059814453125,\n",
       "  2.35595703125,\n",
       "  -0.00457763671875,\n",
       "  0.6931962371698447]}"
      ]
     },
     "execution_count": 103,
     "metadata": {},
     "output_type": "execute_result"
    }
   ],
   "source": [
    "# Call your function here\n",
    "compute_resp(pickle_to_csv('Data/Stress.pkl'))"
   ]
  },
  {
   "cell_type": "markdown",
   "metadata": {},
   "source": [
    "**Question 3**"
   ]
  },
  {
   "cell_type": "code",
   "execution_count": null,
   "metadata": {},
   "outputs": [],
   "source": [
    "\"\"\"\n",
    "    Plot `RESP` using matplotlib (pyplot):\n",
    "    - First, just plot the raw values.\n",
    "    - Next, try using different colours for data points based on `BINARY`.\n",
    "    - Experiment and come up with a useful plot.\n",
    "\"\"\""
   ]
  },
  {
   "cell_type": "code",
   "execution_count": 48,
   "metadata": {},
   "outputs": [],
   "source": [
    "import matplotlib as mpl\n",
    "import matplotlib.pyplot as plt\n",
    "def plot_raw(dataframe):\n",
    "    \"\"\"\n",
    "        Function 1: plot_raw(dataframe)\n",
    "        Parameters: dataframe: Stress data DataFrame\n",
    "        Output: Plot\n",
    "    \"\"\"\n",
    "    sno = []\n",
    "    plt.xlabel('SNO')\n",
    "    plt.ylabel('RESP')\n",
    "    for i in range(700):\n",
    "        sno.append(i)\n",
    "    plt.plot(sno,dataframe['RESP'])\n",
    "    plt.show()"
   ]
  },
  {
   "cell_type": "code",
   "execution_count": 49,
   "metadata": {},
   "outputs": [
    {
     "data": {
      "image/png": "[encoded data removed]",
      "text/plain": [
       "<Figure size 432x288 with 1 Axes>"
      ]
     },
     "metadata": {
      "needs_background": "light"
     },
     "output_type": "display_data"
    }
   ],
   "source": [
    "# Call your function here\n",
    "plot_raw(pickle_to_csv('Data/Stress.pkl'))"
   ]
  },
  {
   "cell_type": "code",
   "execution_count": 90,
   "metadata": {},
   "outputs": [],
   "source": [
    "def plot_coloured(dataframe):\n",
    "    \"\"\"\n",
    "        Function 2: plot_coloured(dataframe)\n",
    "        Parameters: dataframe: Stress data DataFrame\n",
    "        Output: Plot\n",
    "    \"\"\"\n",
    "    sno1 = []\n",
    "    sno0 = []\n",
    "    resp1 = []\n",
    "    resp0 = []\n",
    "    count = 0\n",
    "    dataframe = add_binary(pickle_to_csv('Data/Stress.pkl'))\n",
    "    for i in dataframe['BINARY'] :\n",
    "        if i == 1 :\n",
    "            sno1.append(count)\n",
    "        else :\n",
    "            sno0.append(count) \n",
    "        count+=1\n",
    "    resp1 = dataframe.loc[dataframe['BINARY'] == 1,'RESP']\n",
    "    resp0 = dataframe.loc[dataframe['BINARY'] == 0,'RESP']\n",
    "    plt.plot(sno1,resp1,'x',label = 'BINARY 1')\n",
    "    plt.plot(sno0,resp0,'+',label = 'BINARY 0')\n",
    "    plt.legend(numpoints =1)\n",
    "    plt.show()"
   ]
  },
  {
   "cell_type": "code",
   "execution_count": 91,
   "metadata": {},
   "outputs": [
    {
     "data": {
      "image/png": "[encoded data removed]",
      "text/plain": [
       "<Figure size 432x288 with 1 Axes>"
      ]
     },
     "metadata": {
      "needs_background": "light"
     },
     "output_type": "display_data"
    }
   ],
   "source": [
    "# Call your function here\n",
    "plot_coloured(pickle_to_csv('Data/Stress.pkl'))"
   ]
  },
  {
   "cell_type": "markdown",
   "metadata": {},
   "source": [
    "## Task 2"
   ]
  },
  {
   "cell_type": "markdown",
   "metadata": {},
   "source": [
    "Some simple file operations."
   ]
  },
  {
   "cell_type": "code",
   "execution_count": null,
   "metadata": {},
   "outputs": [],
   "source": [
    "\"\"\"\n",
    "    Generate a text file containing 50 integer elements between 1 and 20 (use `random`). \n",
    "    Identify the unique numbers and the number of their occurrences, and write this into \n",
    "    a new text file.\n",
    "    \n",
    "    Example\n",
    "    -------\n",
    "    \n",
    "    Generated File\n",
    "    --------------\n",
    "    1 2 3 4 3 2 1 ...\n",
    "    \n",
    "    Count File\n",
    "    ----------\n",
    "    1 - 2\n",
    "    2 - 2\n",
    "    3 - 2\n",
    "    4 - 1\n",
    "    ...\n",
    "\"\"\""
   ]
  },
  {
   "cell_type": "code",
   "execution_count": 106,
   "metadata": {},
   "outputs": [],
   "source": [
    "import random\n",
    "def random_numbers():\n",
    "    \"\"\"\n",
    "        Function: random_numbers()\n",
    "        Save: `Numbers.txt` containing the 50 integers,\n",
    "              `Count.txt` containing the count of unique integers\n",
    "    \"\"\"\n",
    "    f = open(\"Numbers.txt\",'w+')\n",
    "    string = \"\"\n",
    "    count = {}\n",
    "    numbers = []\n",
    "    for i in range(0,50):\n",
    "        number = random.randint(1,20)\n",
    "        string = str(number) + \" \"\n",
    "        numbers.append(number)\n",
    "        f.write(string)\n",
    "    f.close()\n",
    "    for i in numbers:\n",
    "        if i in count:\n",
    "            count[i]+=1\n",
    "        else:\n",
    "            count[i]=1\n",
    "    f = open(\"Count.txt\",'w+')\n",
    "    for k,v in count.items():\n",
    "        f.write(\"{} {} {}\\n\".format(k,\"-\",v))\n",
    "    f.close()"
   ]
  },
  {
   "cell_type": "code",
   "execution_count": 107,
   "metadata": {},
   "outputs": [],
   "source": [
    "# Call your function here\n",
    "random_numbers()"
   ]
  },
  {
   "cell_type": "markdown",
   "metadata": {},
   "source": [
    "Once you're done, move on to Module 3. Great job!"
   ]
  }
 ],
 "metadata": {
  "kernelspec": {
   "display_name": "Python 3",
   "language": "python",
   "name": "python3"
  },
  "language_info": {
   "codemirror_mode": {
    "name": "ipython",
    "version": 3
   },
   "file_extension": ".py",
   "mimetype": "text/x-python",
   "name": "python",
   "nbconvert_exporter": "python",
   "pygments_lexer": "ipython3",
   "version": "3.7.6"
  }
 },
 "nbformat": 4,
 "nbformat_minor": 2
}
